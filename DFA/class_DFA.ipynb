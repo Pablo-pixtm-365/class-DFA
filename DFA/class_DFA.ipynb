{
 "cells": [
  {
   "cell_type": "code",
   "execution_count": 4,
   "metadata": {},
   "outputs": [],
   "source": [
    "class Automaton():\n",
    "    \"\"\"\n",
    "    This class simulate a DFA automaton.\n",
    "    \"\"\"\n",
    "    def initialize(self, q, sigma, delta, q0, f):\n",
    "        \"\"\"\n",
    "        This method is in case the user wants to enter his automaton\n",
    "        manually, that is, he or she introduces the corresponding parameters\n",
    "        and it is stored in the Automaton class.\n",
    "        \n",
    "        Parameters:\n",
    "        q: List of strings that represents the states of automata ([q0, q1], [s0,s1], etc).\n",
    "        sigma: It represent the list of symbols in the alphabet ([a,b], [1,0], etc).\n",
    "        delta: Dictionary that represent the combination in that the automata move (next states).\n",
    "        q0: String that represent the initial state of the automata.\n",
    "        f: List of the final state of the automata.\n",
    "        \"\"\"\n",
    "        \n",
    "        self.q = q\n",
    "        self.sigma = sigma\n",
    "        self.delta = delta\n",
    "        \n",
    "        self.q0 = q0\n",
    "        self.f = f\n",
    "        # current state \n",
    "        self.cst = self.q0\n",
    "        \n",
    "    def load_from_file(self, path):\n",
    "        \"\"\"\n",
    "        With this method load the file with extension .txt\n",
    "        and make the property clean and preprocessing, for save the\n",
    "        properties in the variables of the automata.\n",
    "    \n",
    "        Parameters:\n",
    "        path: String for the directory of the file with extension .txt\n",
    "        \"\"\"\n",
    "        #load and read the file as file_objetc\n",
    "        with open(path) as file_object:\n",
    "            # Save the file as list in the variable content\n",
    "            content = file_object.readlines()\n",
    "            # Clen the line breaks of the list and save as list\n",
    "            content = list(map(lambda s: s.strip(), content))\n",
    "            # Quit the {} of the list and save as list \n",
    "            content = list(map(lambda x: x.strip('{}'), content))\n",
    "            \n",
    "            # from te list content, select the firts element, then \n",
    "            # replace \" \" for \"\" in case the the file don't have the\n",
    "            # spaces between each element and finally divide for \",\" \n",
    "            # for transform in an appropiate list  \n",
    "            q = content[0].replace(\" \", '').split(\",\")\n",
    "            # Similarly that the previous one, save as list in sigma variable\n",
    "            sigma = content[1].replace(',', ', ').split(\", \")\n",
    "            \n",
    "            # Save in the variable the third element of the list content \n",
    "            # and save as string\n",
    "            q0 = content[3]\n",
    "            # Save as list the final element of the list content \n",
    "            f = content[-1].replace(\",\", ', ').split(\", \")\n",
    "            # select the second element of the list content\n",
    "            work = content[2]\n",
    "            # Divide the string  for ',' and save as list\n",
    "            work2 = work.split(',')\n",
    "    \n",
    "            dicc = {}\n",
    "            # we loop over the list work2\n",
    "            for i in work2:\n",
    "                # divide each value of work2 for '-' and save three variables\n",
    "                # for each divition\n",
    "                s1, v, ns1 = i.split('-')\n",
    "                # save the keys as tuple of two string (state, value) in the dictionary \n",
    "                # and its values as string (next state)\n",
    "                dicc[(s1, v)] = ns1\n",
    "                \n",
    "            # Finally of process all correctly save in the parameters of the class\n",
    "            self.q = q\n",
    "            self.sigma = sigma\n",
    "            self.delta = dicc\n",
    "            self.q0 = q0\n",
    "            self.f = f\n",
    "            self.cst = self.q0\n",
    "        \n",
    "    def process_word(self, word):\n",
    "        \"\"\"\n",
    "        This method process the word entered\n",
    "        \n",
    "        parameters:\n",
    "        word: A string of characters of number as string (\"01010\")\n",
    "        \n",
    "        Return: if the word is accepted o not  \n",
    "        \"\"\"\n",
    "        \n",
    "        # Convert the word in strig in case that the user insert \n",
    "        # numbers\n",
    "        word = str(word)\n",
    "        # change the spaces for empty string\n",
    "        word.replace(' ', '')\n",
    "        \n",
    "        # if the word isn't in the alphabet the word isn't not accepted\n",
    "        if(word[0] not in self.sigma):\n",
    "            return 'Not Accepted'\n",
    "        # one time that the characters is in the alphabet  \n",
    "        else:\n",
    "            # loop over the word\n",
    "            for c in word:\n",
    "                # for read the first character of the word and move the next state\n",
    "                # we introduce the current state and the character as tuple of two\n",
    "                # pairs, equal that our dictionary created in the method load_from_file\n",
    "                change = (self.cst, c)\n",
    "                \n",
    "                # for change the current state in each iteration\n",
    "                self.cst = self.delta[change]\n",
    "            # if the current state is one final state return that the word is accepted    \n",
    "            if(self.cst in self.f):\n",
    "                return \"string accepted\".title()\n",
    "            # In other case the word is not accepted \n",
    "            else:\n",
    "                return \"string not accepted\".title()\n",
    "            \n",
    "    def __str__(self):\n",
    "        \"\"\"\n",
    "        This method only show the current configuration of the automaton\n",
    "        \n",
    "        return: A message with te configuration of DFA\n",
    "        \"\"\"\n",
    "        \n",
    "        # The message that the method return \n",
    "        message = f\"\"\"This is the current configuration of the automaton:\\n -Automaton states: {self.q} \n",
    "        \\n-Alphabet: {self.sigma}\\n-Automaton next states:{self.delta}\\n-Initial state: {self.q0}\n",
    "        \\n-Current state: {self.cst}\\n-Final states: {self.f}\"\"\"\n",
    "        \n",
    "        return print(message)\n",
    "    \n",
    "    def is_valid(self, q, sigma, delta, q0, f):\n",
    "        \"\"\"\n",
    "        This method corrobote if the elements of the automaton\n",
    "        are correct, in case que all elemenents are correct \n",
    "        then the definition of DFA is valid and return True,\n",
    "        on the contrary return the exeption NotValidConfigurationError.\n",
    "        \n",
    "        parameters:\n",
    "        q: List of strings that represents the states of automata ([q0, q1], [s0,s1], etc).\n",
    "        sigma: It represent the list of symbols in the alphabet ([a,b], [1,0], etc).\n",
    "        delta: Dictionary that represent the combination in that the automata move (next states).\n",
    "        q0: String that represent the initial state of the automata.\n",
    "        f: List of the final state of the automata.\n",
    "        \n",
    "        Return:\n",
    "        True en case that the definition of the automaton is correct\n",
    "        the exeption NotValidConfigurationError if the definition of the automaton is not valid\n",
    "        \"\"\"\n",
    "        \n",
    "        # create a list for the initial state and we can check \n",
    "        # that only there is a initial element\n",
    "        lista = []\n",
    "        lista.append(q0)\n",
    "                # The automaton only have one state initial\n",
    "        rules = [len(lista) == 1,\n",
    "                # F is a subset of q \n",
    "                all(item in q for item in f),\n",
    "                # q0 belong the set of states (q)\n",
    "                q0 in q,\n",
    "                # Check that there aren't double transitions \n",
    "                # and check that all transitions are defite in each state \n",
    "                len(q) * len(sigma) == len(delta)]\n",
    "        \n",
    "        # if all the rules are True we check a last condition \n",
    "        if all(rules):\n",
    "            # Create a counter\n",
    "            count = 0\n",
    "            # loop over the dicctionary delta \n",
    "            for k, v in delta.items():\n",
    "                # Check that there aren't empty trasnsitions \n",
    "                if(len(k) == 2):\n",
    "                    count += 1\n",
    "            if(count == len(delta)):\n",
    "                return True\n",
    "        # If the definition of the automaton isn't correct, show a exception\n",
    "        else:\n",
    "            raise Exception('NotValidConfigurationError')"
   ]
  },
  {
   "cell_type": "markdown",
   "metadata": {},
   "source": [
    "# An accepted word"
   ]
  },
  {
   "cell_type": "code",
   "execution_count": 6,
   "metadata": {},
   "outputs": [
    {
     "name": "stdin",
     "output_type": "stream",
     "text": [
      "Enter your file with extension txt:  text_files/automaton.txt\n"
     ]
    },
    {
     "name": "stdout",
     "output_type": "stream",
     "text": [
      "Sorry, the file or pathtext_files/automaton.txt does not exist.\n",
      "\n",
      "\n"
     ]
    },
    {
     "name": "stdin",
     "output_type": "stream",
     "text": [
      "Enter your file with extension txt:  text_files/automata.txt\n"
     ]
    },
    {
     "name": "stdout",
     "output_type": "stream",
     "text": [
      "\n",
      "\n"
     ]
    },
    {
     "name": "stdin",
     "output_type": "stream",
     "text": [
      "Enter your word:  10\n"
     ]
    },
    {
     "name": "stdout",
     "output_type": "stream",
     "text": [
      "\n",
      "\n",
      "String Accepted\n",
      "\n",
      "\n"
     ]
    },
    {
     "name": "stdin",
     "output_type": "stream",
     "text": [
      "Do you want to show the configuration of the automaton (y/n):  y\n"
     ]
    },
    {
     "name": "stdout",
     "output_type": "stream",
     "text": [
      "This is the current configuration of the automaton:\n",
      " -Automaton states: ['q0', 'q1', 'q2', 'q3'] \n",
      "        \n",
      "-Alphabet: ['0', '1']\n",
      "-Automaton next states:{('q0', '0'): 'q3', ('q0', '1'): 'q1', ('q1', '0'): 'q2', ('q1', '1'): 'q1', ('q2', '0'): 'q2', ('q2', '1'): 'q1', ('q3', '0'): 'q3', ('q3', '1'): 'q3'}\n",
      "-Initial state: q0\n",
      "        \n",
      "-Current state: q2\n",
      "-Final states: ['q2']\n",
      "None\n",
      "\n",
      "\n"
     ]
    },
    {
     "name": "stdin",
     "output_type": "stream",
     "text": [
      "Do you want continue (y/n):  n\n"
     ]
    }
   ],
   "source": [
    "while True:\n",
    "    # initialice the class \n",
    "    p = Automaton()\n",
    "    \n",
    "    # use a try-except in case that the file o path is wrong\n",
    "    try:\n",
    "        # The user enter the file o path \n",
    "        path = input('Enter your file with extension txt: ')\n",
    "        # load the file \n",
    "        p.load_from_file(path)\n",
    "        print('\\n')\n",
    "    # in case the the file o path is wrong     \n",
    "    except FileNotFoundError:\n",
    "        print(\"Sorry, the file or path \" + path + \" does not exist.\")\n",
    "        print('\\n')\n",
    "    # if the file is correct     \n",
    "    else:\n",
    "        # save in the next variables the characteristics of the automaton\n",
    "        q = p.q\n",
    "        sigma = p.sigma\n",
    "        delta = p.delta\n",
    "        q0 = p.q0\n",
    "        f = p.f\n",
    "        \n",
    "        # save in the variable \"so\" the return of the method is_valid \n",
    "        so = p.is_valid(q, sigma, delta, q0, f)\n",
    "        \n",
    "        if(so == True):\n",
    "            # enter the word\n",
    "            word = input('Enter your word: ')\n",
    "            print('\\n')\n",
    "            je = p.process_word(word)\n",
    "            # show if the word is correct or not \n",
    "            print(je)\n",
    "            \n",
    "        else:\n",
    "            # in case that the definition of the automaton isn't correct\n",
    "            print(p.is_valid(q, sigma, delta, q0, f))\n",
    "        \n",
    "        print('\\n')\n",
    "        decide = input('Do you want to show the configuration of the automaton (y/n): ')\n",
    "        # in case that the user want to show the current configuration of the automaton\n",
    "        if(decide == 'y'):\n",
    "            print(p.__str__())\n",
    "        \n",
    "        print('\\n')\n",
    "        # for decided if the user want to continue in the loop\n",
    "        n = input('Do you want continue (y/n): ')\n",
    "        \n",
    "        if(n == 'n'):\n",
    "            break\n",
    "        else:\n",
    "            continue"
   ]
  },
  {
   "cell_type": "markdown",
   "metadata": {},
   "source": [
    "# Usign the file automata.txt"
   ]
  },
  {
   "cell_type": "code",
   "execution_count": 8,
   "metadata": {},
   "outputs": [
    {
     "name": "stdin",
     "output_type": "stream",
     "text": [
      "Enter your file with extension txt:  text_files/automata2.txt\n"
     ]
    },
    {
     "name": "stdout",
     "output_type": "stream",
     "text": [
      "\n",
      "\n"
     ]
    },
    {
     "name": "stdin",
     "output_type": "stream",
     "text": [
      "Enter your word:  abaa\n"
     ]
    },
    {
     "name": "stdout",
     "output_type": "stream",
     "text": [
      "\n",
      "\n",
      "String Accepted\n",
      "\n",
      "\n"
     ]
    },
    {
     "name": "stdin",
     "output_type": "stream",
     "text": [
      "Do you want to show the configuration of the automaton (y/n):  y\n"
     ]
    },
    {
     "name": "stdout",
     "output_type": "stream",
     "text": [
      "This is the current configuration of the automaton:\n",
      " -Automaton states: ['A', 'B', 'C'] \n",
      "        \n",
      "-Alphabet: ['a', 'b']\n",
      "-Automaton next states:{('A', 'a'): 'B', ('A', 'b'): 'A', ('B', 'a'): 'C', ('B', 'b'): 'A', ('C', 'a'): 'C', ('C', 'b'): 'A'}\n",
      "-Initial state: A\n",
      "        \n",
      "-Current state: C\n",
      "-Final states: ['C']\n",
      "None\n",
      "\n",
      "\n"
     ]
    },
    {
     "name": "stdin",
     "output_type": "stream",
     "text": [
      "Do you want continue (y/n):  n\n"
     ]
    }
   ],
   "source": [
    "while True:\n",
    "    # initialice the class \n",
    "    p = Automaton()\n",
    "    \n",
    "    # use a try-except in case that the file o path is wrong\n",
    "    try:\n",
    "        # The user enter the file o path \n",
    "        path = input('Enter your file with extension txt: ')\n",
    "        # load the file \n",
    "        p.load_from_file(path)\n",
    "        print('\\n')\n",
    "    # in case the the file o path is wrong     \n",
    "    except FileNotFoundError:\n",
    "        print(\"Sorry, the file or path \" + path + \" does not exist.\")\n",
    "        print('\\n')\n",
    "    # if the file is correct     \n",
    "    else:\n",
    "        # save in the next variables the characteristics of the automaton\n",
    "        q = p.q\n",
    "        sigma = p.sigma\n",
    "        delta = p.delta\n",
    "        q0 = p.q0\n",
    "        f = p.f\n",
    "        \n",
    "        # save in the variable \"so\" the return of the method is_valid \n",
    "        so = p.is_valid(q, sigma, delta, q0, f)\n",
    "        \n",
    "        # If the automaton definition is correct \n",
    "        if(so == True):\n",
    "            # enter the word\n",
    "            word = input('Enter your word: ')\n",
    "            print('\\n')\n",
    "            je = p.process_word(word)\n",
    "            # show if the word is correct or not \n",
    "            print(je)\n",
    "            \n",
    "        else:\n",
    "            # in case that the definition of the automaton isn't correct\n",
    "            print(p.is_valid(q, sigma, delta, q0, f))\n",
    "        \n",
    "        print('\\n')\n",
    "        decide = input('Do you want to show the configuration of the automaton (y/n): ')\n",
    "        # in case that the user want to show the current configuration of the automaton\n",
    "        if(decide == 'y'):\n",
    "            print(p.__str__())\n",
    "        \n",
    "        print('\\n')\n",
    "        # for decided if the user want to continue in the loop\n",
    "        n = input('Do you want continue (y/n): ')\n",
    "        \n",
    "        if(n == 'n'):\n",
    "            break\n",
    "        else:\n",
    "            continue"
   ]
  },
  {
   "cell_type": "markdown",
   "metadata": {},
   "source": [
    "# A word not accepted"
   ]
  },
  {
   "cell_type": "code",
   "execution_count": 7,
   "metadata": {},
   "outputs": [
    {
     "name": "stdin",
     "output_type": "stream",
     "text": [
      "Enter your file with extension txt:  text_files/automata.txt\n"
     ]
    },
    {
     "name": "stdout",
     "output_type": "stream",
     "text": [
      "\n",
      "\n"
     ]
    },
    {
     "name": "stdin",
     "output_type": "stream",
     "text": [
      "Enter your word:  10111\n"
     ]
    },
    {
     "name": "stdout",
     "output_type": "stream",
     "text": [
      "\n",
      "\n",
      "String Not Accepted\n",
      "\n",
      "\n"
     ]
    },
    {
     "name": "stdin",
     "output_type": "stream",
     "text": [
      "Do you want to show the configuration of the automaton (y/n):  y\n"
     ]
    },
    {
     "name": "stdout",
     "output_type": "stream",
     "text": [
      "This is the current configuration of the automaton:\n",
      " -Automaton states: ['q0', 'q1', 'q2', 'q3'] \n",
      "        \n",
      "-Alphabet: ['0', '1']\n",
      "-Automaton next states:{('q0', '0'): 'q3', ('q0', '1'): 'q1', ('q1', '0'): 'q2', ('q1', '1'): 'q1', ('q2', '0'): 'q2', ('q2', '1'): 'q1', ('q3', '0'): 'q3', ('q3', '1'): 'q3'}\n",
      "-Initial state: q0\n",
      "        \n",
      "-Current state: q1\n",
      "-Final states: ['q2']\n",
      "None\n",
      "\n",
      "\n"
     ]
    },
    {
     "name": "stdin",
     "output_type": "stream",
     "text": [
      "Do you want continue (y/n):  n\n"
     ]
    }
   ],
   "source": [
    "while True:\n",
    "    # initialice the class \n",
    "    p = Automaton()\n",
    "    \n",
    "    # use a try-except in case that the file o path is wrong\n",
    "    try:\n",
    "        # The user enter the file o path \n",
    "        path = input('Enter your file with extension txt: ')\n",
    "        # load the file \n",
    "        p.load_from_file(path)\n",
    "        print('\\n')\n",
    "    # in case the the file o path is wrong     \n",
    "    except FileNotFoundError:\n",
    "        print(\"Sorry, the file or path \" + path + \" does not exist.\")\n",
    "        print('\\n')\n",
    "    # if the file is correct     \n",
    "    else:\n",
    "        # save in the next variables the characteristics of the automaton\n",
    "        q = p.q\n",
    "        sigma = p.sigma\n",
    "        delta = p.delta\n",
    "        q0 = p.q0\n",
    "        f = p.f\n",
    "        \n",
    "        # save in the variable \"so\" the return of the method is_valid \n",
    "        so = p.is_valid(q, sigma, delta, q0, f)\n",
    "        \n",
    "        if(so == True):\n",
    "            # enter the word\n",
    "            word = input('Enter your word: ')\n",
    "            print('\\n')\n",
    "            je = p.process_word(word)\n",
    "            # show if the word is correct or not \n",
    "            print(je)\n",
    "            \n",
    "        else:\n",
    "            # in case that the definition of the automaton isn't correct\n",
    "            print(p.is_valid(q, sigma, delta, q0, f))\n",
    "        \n",
    "        print('\\n')\n",
    "        decide = input('Do you want to show the configuration of the automaton (y/n): ')\n",
    "        # in case that the user want to show the current configuration of the automaton\n",
    "        if(decide == 'y'):\n",
    "            print(p.__str__())\n",
    "        \n",
    "        print('\\n')\n",
    "        # for decided if the user want to continue in the loop\n",
    "        n = input('Do you want continue (y/n): ')\n",
    "        \n",
    "        if(n == 'n'):\n",
    "            break\n",
    "        else:\n",
    "            continue"
   ]
  },
  {
   "cell_type": "markdown",
   "metadata": {},
   "source": [
    "# Using the file automata2.txt"
   ]
  },
  {
   "cell_type": "code",
   "execution_count": 5,
   "metadata": {},
   "outputs": [
    {
     "name": "stdin",
     "output_type": "stream",
     "text": [
      "Enter your file with extension txt:  text_files/automaton2.txt\n"
     ]
    },
    {
     "name": "stdout",
     "output_type": "stream",
     "text": [
      "Sorry, the file or pathtext_files/automaton2.txt does not exist.\n",
      "\n",
      "\n"
     ]
    },
    {
     "name": "stdin",
     "output_type": "stream",
     "text": [
      "Enter your file with extension txt:  text_files/automata2.txt\n"
     ]
    },
    {
     "name": "stdout",
     "output_type": "stream",
     "text": [
      "\n",
      "\n"
     ]
    },
    {
     "name": "stdin",
     "output_type": "stream",
     "text": [
      "Enter your word:  abababa\n"
     ]
    },
    {
     "name": "stdout",
     "output_type": "stream",
     "text": [
      "\n",
      "\n",
      "String Not Accepted\n",
      "\n",
      "\n"
     ]
    },
    {
     "name": "stdin",
     "output_type": "stream",
     "text": [
      "Do you want to show the configuration of the automaton (y/n):  y\n"
     ]
    },
    {
     "name": "stdout",
     "output_type": "stream",
     "text": [
      "This is the current configuration of the automaton:\n",
      " -Automaton states: ['A', 'B', 'C'] \n",
      "        \n",
      "-Alphabet: ['a', 'b']\n",
      "-Automaton next states:{('A', 'a'): 'B', ('A', 'b'): 'A', ('B', 'a'): 'C', ('B', 'b'): 'A', ('C', 'a'): 'C', ('C', 'b'): 'A'}\n",
      "-Initial state: A\n",
      "        \n",
      "-Current state: B\n",
      "-Final states: ['C']\n",
      "None\n",
      "\n",
      "\n"
     ]
    },
    {
     "name": "stdin",
     "output_type": "stream",
     "text": [
      "Do you want continue (y/n):  n\n"
     ]
    }
   ],
   "source": [
    "while True:\n",
    "    # initialice the class \n",
    "    p = Automaton()\n",
    "    \n",
    "    # use a try-except in case that the file o path is wrong\n",
    "    try:\n",
    "        # The user enter the file o path \n",
    "        path = input('Enter your file with extension txt: ')\n",
    "        # load the file \n",
    "        p.load_from_file(path)\n",
    "        print('\\n')\n",
    "    # in case the the file o path is wrong     \n",
    "    except FileNotFoundError:\n",
    "        print(\"Sorry, the file or path \" + path + \" does not exist.\")\n",
    "        print('\\n')\n",
    "    # if the file is correct     \n",
    "    else:\n",
    "        # save in the next variables the characteristics of the automaton\n",
    "        q = p.q\n",
    "        sigma = p.sigma\n",
    "        delta = p.delta\n",
    "        q0 = p.q0\n",
    "        f = p.f\n",
    "        \n",
    "        # save in the variable \"so\" the return of the method is_valid \n",
    "        so = p.is_valid(q, sigma, delta, q0, f)\n",
    "        \n",
    "        # If the automaton definition is correct \n",
    "        if(so == True):\n",
    "            # enter the word\n",
    "            word = input('Enter your word: ')\n",
    "            print('\\n')\n",
    "            je = p.process_word(word)\n",
    "            # show if the word is correct or not \n",
    "            print(je)\n",
    "            \n",
    "        else:\n",
    "            # in case that the definition of the automaton isn't correct\n",
    "            print(p.is_valid(q, sigma, delta, q0, f))\n",
    "        \n",
    "        print('\\n')\n",
    "        decide = input('Do you want to show the configuration of the automaton (y/n): ')\n",
    "        # in case that the user want to show the current configuration of the automaton\n",
    "        if(decide == 'y'):\n",
    "            print(p.__str__())\n",
    "        \n",
    "        print('\\n')\n",
    "        # for decided if the user want to continue in the loop\n",
    "        n = input('Do you want continue (y/n): ')\n",
    "        \n",
    "        if(n == 'n'):\n",
    "            break\n",
    "        else:\n",
    "            continue"
   ]
  },
  {
   "cell_type": "code",
   "execution_count": null,
   "metadata": {},
   "outputs": [],
   "source": []
  },
  {
   "cell_type": "code",
   "execution_count": null,
   "metadata": {},
   "outputs": [],
   "source": []
  },
  {
   "cell_type": "code",
   "execution_count": null,
   "metadata": {},
   "outputs": [],
   "source": []
  },
  {
   "cell_type": "code",
   "execution_count": null,
   "metadata": {},
   "outputs": [],
   "source": []
  },
  {
   "cell_type": "code",
   "execution_count": null,
   "metadata": {},
   "outputs": [],
   "source": []
  },
  {
   "cell_type": "code",
   "execution_count": null,
   "metadata": {},
   "outputs": [],
   "source": []
  },
  {
   "cell_type": "code",
   "execution_count": null,
   "metadata": {},
   "outputs": [],
   "source": []
  },
  {
   "cell_type": "code",
   "execution_count": null,
   "metadata": {},
   "outputs": [],
   "source": []
  },
  {
   "cell_type": "code",
   "execution_count": null,
   "metadata": {},
   "outputs": [],
   "source": []
  },
  {
   "cell_type": "code",
   "execution_count": null,
   "metadata": {},
   "outputs": [],
   "source": []
  },
  {
   "cell_type": "code",
   "execution_count": null,
   "metadata": {},
   "outputs": [],
   "source": []
  },
  {
   "cell_type": "code",
   "execution_count": null,
   "metadata": {},
   "outputs": [],
   "source": []
  },
  {
   "cell_type": "code",
   "execution_count": null,
   "metadata": {},
   "outputs": [],
   "source": []
  },
  {
   "cell_type": "code",
   "execution_count": null,
   "metadata": {},
   "outputs": [],
   "source": []
  },
  {
   "cell_type": "code",
   "execution_count": null,
   "metadata": {},
   "outputs": [],
   "source": []
  }
 ],
 "metadata": {
  "kernelspec": {
   "display_name": "Python 3",
   "language": "python",
   "name": "python3"
  },
  "language_info": {
   "codemirror_mode": {
    "name": "ipython",
    "version": 3
   },
   "file_extension": ".py",
   "mimetype": "text/x-python",
   "name": "python",
   "nbconvert_exporter": "python",
   "pygments_lexer": "ipython3",
   "version": "3.7.8"
  }
 },
 "nbformat": 4,
 "nbformat_minor": 4
}
